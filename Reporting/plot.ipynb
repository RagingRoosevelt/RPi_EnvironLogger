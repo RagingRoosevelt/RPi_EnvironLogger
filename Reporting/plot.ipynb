{
 "cells": [
  {
   "cell_type": "markdown",
   "metadata": {},
   "source": [
    "## Imports and Config"
   ]
  },
  {
   "cell_type": "code",
   "execution_count": null,
   "metadata": {},
   "outputs": [],
   "source": [
    "import psycopg2\n",
    "from pytz import timezone\n",
    "import pandas as pd\n",
    "import matplotlib.pyplot as plt\n",
    "import matplotlib.gridspec as gridspec\n",
    "import matplotlib.dates as mpl_dates\n",
    "import matplotlib.ticker as ticker\n",
    "\n",
    "import os\n",
    "from pathlib import Path\n",
    "from configparser import ConfigParser\n",
    "\n",
    "conf = ConfigParser()\n",
    "conf.read(Path(os.getcwd()) / 'logging_config.ini')\n",
    "local_timezone = timezone(conf['logging'].get('local_timezone', 'UTC'))\n",
    "\n",
    "conn = psycopg2.connect(\n",
    "    host=conf['postgres'].get('hostname'),\n",
    "    database=conf['postgres'].get('database'),\n",
    "    port=conf['postgres'].get('port', 5432),\n",
    "    user=conf['postgres'].get('username'),\n",
    "    password=conf['postgres'].get('password')\n",
    ")\n",
    "cur = conn.cursor()"
   ]
  },
  {
   "cell_type": "markdown",
   "metadata": {},
   "source": [
    "## Fetch the most recent data"
   ]
  },
  {
   "cell_type": "code",
   "execution_count": null,
   "metadata": {},
   "outputs": [],
   "source": [
    "df = pd.read_sql(\n",
    "    \"\"\"\n",
    "    select *, temp_avg*1.8+32 as temp_avg_f\n",
    "    from env_log\n",
    "    %s\n",
    "    \"\"\" % (\"where ts_load >= current_timestamp - interval '48 hours'\" if False else \"\"),\n",
    "    conn\n",
    ")\n",
    "df.ts_load = df.ts_load.dt.tz_localize(timezone('UTC'))\n",
    "df['ts_pst'] = df.ts_load.dt.tz_convert(local_timezone)"
   ]
  },
  {
   "cell_type": "markdown",
   "metadata": {},
   "source": [
    "## Assemble the Chart"
   ]
  },
  {
   "cell_type": "code",
   "execution_count": null,
   "metadata": {},
   "outputs": [],
   "source": [
    "gs = gridspec.GridSpec(3, 1)\n",
    "plt.rcParams[\"figure.autolayout\"] = True\n",
    "fig = plt.figure(figsize=(10,10))\n",
    "(ax1, ax2, ax3) = [fig.add_subplot(gs[loc[0], loc[1]]) for loc in [[0,0],[1,0],[2,0]]]\n",
    "for ax, column, title, color, append, locator_multiple in zip(\n",
    "    (ax1, ax2, ax3), \n",
    "    ('humidity', 'temp_avg_f', 'co2'),\n",
    "    ('Humidity', 'Average Temp', 'CO2'),\n",
    "    ('tab:blue', 'tab:red', 'tab:orange'),\n",
    "    (' %rh', '°F', ' PPM'),\n",
    "    (5, 2, 20)\n",
    "):\n",
    "    ax.xaxis.set_major_locator(mpl_dates.HourLocator(interval=1))\n",
    "    ax.xaxis.set_major_formatter(mpl_dates.DateFormatter('%b%d %I%p', tz=timezone('America/Los_Angeles'))) \n",
    "\n",
    "    ax.set_title(title)\n",
    "\n",
    "    ax.scatter(\n",
    "        df.ts_pst,\n",
    "        df[column],\n",
    "        color=color\n",
    "    )\n",
    "\n",
    "    ax.yaxis.set_major_locator(ticker.MultipleLocator(locator_multiple))\n",
    "    ax.yaxis.set_major_formatter('{x:1.0f}%s'%append)\n",
    "    ax.tick_params(axis='x', labelrotation=90)\n",
    "\n",
    "fig.set_facecolor('white')"
   ]
  },
  {
   "cell_type": "code",
   "execution_count": null,
   "metadata": {},
   "outputs": [],
   "source": [
    "fig.savefig(\n",
    "    Path(os.getcwd()) / 'env_log_plot.png',\n",
    "    dpi=300,\n",
    "    backend='agg',\n",
    "    metadata={\n",
    "        'Title': 'Env Logs: %s' % df.loc[0, 'location'],\n",
    "        'Description': 'Humidity, Temperature, and CO2 for %s' % df.loc[0, 'location'],\n",
    "        'Software': 'matplotlib'\n",
    "    }\n",
    ")"
   ]
  },
  {
   "cell_type": "code",
   "execution_count": null,
   "metadata": {},
   "outputs": [],
   "source": []
  }
 ],
 "metadata": {
  "interpreter": {
   "hash": "b3ba2566441a7c06988d0923437866b63cedc61552a5af99d1f4fb67d367b25f"
  },
  "kernelspec": {
   "display_name": "Python 3.9.7 64-bit ('base': conda)",
   "language": "python",
   "name": "python3"
  },
  "language_info": {
   "codemirror_mode": {
    "name": "ipython",
    "version": 3
   },
   "file_extension": ".py",
   "mimetype": "text/x-python",
   "name": "python",
   "nbconvert_exporter": "python",
   "pygments_lexer": "ipython3",
   "version": "3.9.7"
  },
  "orig_nbformat": 4
 },
 "nbformat": 4,
 "nbformat_minor": 2
}
